{
 "cells": [
  {
   "cell_type": "markdown",
   "id": "c05fed2b",
   "metadata": {},
   "source": [
    "# Plotting"
   ]
  },
  {
   "cell_type": "code",
   "execution_count": 1,
   "id": "16aaf8ed",
   "metadata": {},
   "outputs": [],
   "source": [
    "import matplotlib.pyplot as plt"
   ]
  },
  {
   "cell_type": "code",
   "execution_count": 2,
   "id": "290ea836",
   "metadata": {},
   "outputs": [],
   "source": [
    "# Scatter Plot\n",
    "\n",
    "plt.scatter()\n",
    "\n",
    "plt.xlabel()\n",
    "x_axis = str(x)\n",
    "\n",
    "plt.ylabel()\n",
    "y_axis = str(y)\n",
    "\n",
    "plt.show()"
   ]
  },
  {
   "cell_type": "code",
   "execution_count": null,
   "id": "5819300c",
   "metadata": {},
   "outputs": [],
   "source": [
    "# Linear Regression\n",
    "\n"
   ]
  },
  {
   "cell_type": "code",
   "execution_count": null,
   "id": "5a24ec94",
   "metadata": {},
   "outputs": [],
   "source": [
    "# Box Plot\n",
    "\n"
   ]
  },
  {
   "cell_type": "code",
   "execution_count": null,
   "id": "1e97cfd3",
   "metadata": {},
   "outputs": [],
   "source": [
    "# Histogram\n",
    "\n"
   ]
  },
  {
   "cell_type": "markdown",
   "id": "e22768ce",
   "metadata": {},
   "source": [
    "# Statistics"
   ]
  },
  {
   "cell_type": "code",
   "execution_count": null,
   "id": "642d4f96",
   "metadata": {},
   "outputs": [],
   "source": [
    "# Correlation Coefficient\n",
    "\n"
   ]
  },
  {
   "cell_type": "code",
   "execution_count": null,
   "id": "df8d5a68",
   "metadata": {},
   "outputs": [],
   "source": [
    "# T-value\n",
    "\n"
   ]
  },
  {
   "cell_type": "code",
   "execution_count": null,
   "id": "abc68bf3",
   "metadata": {},
   "outputs": [],
   "source": [
    "# P-value\n",
    "\n"
   ]
  },
  {
   "cell_type": "code",
   "execution_count": null,
   "id": "492b86ee",
   "metadata": {},
   "outputs": [],
   "source": [
    "# 95% Confidence Interval\n",
    "\n"
   ]
  }
 ],
 "metadata": {
  "kernelspec": {
   "display_name": "Python 3 (ipykernel)",
   "language": "python",
   "name": "python3"
  },
  "language_info": {
   "codemirror_mode": {
    "name": "ipython",
    "version": 3
   },
   "file_extension": ".py",
   "mimetype": "text/x-python",
   "name": "python",
   "nbconvert_exporter": "python",
   "pygments_lexer": "ipython3",
   "version": "3.9.5"
  }
 },
 "nbformat": 4,
 "nbformat_minor": 5
}
